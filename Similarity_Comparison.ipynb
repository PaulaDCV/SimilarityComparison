{
  "cells": [
    {
      "cell_type": "markdown",
      "metadata": {
        "id": "view-in-github",
        "colab_type": "text"
      },
      "source": [
        "<a href=\"https://colab.research.google.com/github/PaulaDCV/SimilarityComparison/blob/main/Similarity_Comparison.ipynb\" target=\"_parent\"><img src=\"https://colab.research.google.com/assets/colab-badge.svg\" alt=\"Open In Colab\"/></a>"
      ]
    },
    {
      "cell_type": "markdown",
      "source": [
        "# Introduction"
      ],
      "metadata": {
        "id": "RpweAPn_JlHB"
      },
      "id": "RpweAPn_JlHB"
    },
    {
      "cell_type": "markdown",
      "id": "93c4459b",
      "metadata": {
        "id": "93c4459b"
      },
      "source": [
        "\n",
        "The following notebook investigates the different running times of similarity algorithms to documents. The two main algorithms investigated are Jaccard's similarity and Cosine similarity. Therefore the runtimes and complexity for these algorithms is compared, when looking at the cosine similarity there is an investigation on different variations of this algorithm described below. There is a collection of at least 10 documents where each document contains at least 50 words.\n",
        "The first question will look at Jaccards algorithm and discuss its runtime and complexity applied to documents with different lengths represented as bag of words.\n",
        "Question two is very similar to the previous one but using Cosine similarity and a dense representation of the documents, in this case, vectors. There is also a focus on whether using a custom function for calculating the dot product or using numpys dot product function makes a difere.\n",
        "Question three focuses on cosine similarity of different document lengths again, but this time using a sparse representation, for this i used a bag of words approach again.\n",
        "Question four differs from the previous ones as it investigates the runtime and complexity for different algorithms when calculating the similarity between each document pair in a collection. This question also looks at whether the different similarity algorithms affect the runtime.\n",
        "Question five investigates parallel computing to calculate all document pair similarities. This question focuses on implementing the mapReduce algorithm and how many processes are the most efficient to calculate similarity"
      ]
    },
    {
      "cell_type": "markdown",
      "id": "7adea5c2",
      "metadata": {
        "id": "7adea5c2"
      },
      "source": [
        "## Imports and Basic functions\n",
        "The following code contains the imports needed and prepares the document collection which will be used throughout the notebook, it also contains the time function used to evaluate how long it takes to run a function."
      ]
    },
    {
      "cell_type": "code",
      "execution_count": null,
      "id": "4c765be9",
      "metadata": {
        "id": "4c765be9",
        "outputId": "b9f796f4-d69f-4995-c9db-09edcd494605"
      },
      "outputs": [
        {
          "name": "stderr",
          "output_type": "stream",
          "text": [
            "[nltk_data] Downloading package gutenberg to\n",
            "[nltk_data]     /Users/delcastillovivero/nltk_data...\n",
            "[nltk_data]   Package gutenberg is already up-to-date!\n",
            "[nltk_data] Downloading package brown to\n",
            "[nltk_data]     /Users/delcastillovivero/nltk_data...\n",
            "[nltk_data]   Package brown is already up-to-date!\n"
          ]
        }
      ],
      "source": [
        "import nltk\n",
        "import time\n",
        "import numpy as np\n",
        "import scipy.stats as stats\n",
        "import matplotlib.pyplot as plt\n",
        "nltk.download('gutenberg')\n",
        "nltk.download('brown')\n",
        "from nltk.corpus import gutenberg,brown\n",
        "import math\n",
        "import numpy as np\n",
        "import helper\n",
        "\n",
        "#import operator\n",
        "from collections import defaultdict\n",
        "\n",
        "from multiprocessing import Pool"
      ]
    },
    {
      "cell_type": "code",
      "execution_count": null,
      "id": "d79c6747",
      "metadata": {
        "id": "d79c6747"
      },
      "outputs": [],
      "source": [
        "#Function to generate bag of words\n",
        "def makeBowDictionary(doc):\n",
        "    #Dictionary where keys are words and values are frequencies\n",
        "    bow = {}\n",
        "    #Loop through every word in document\n",
        "    for word in doc:\n",
        "        frequency = bow.get(word,0)\n",
        "        bow[word] = frequency + 1\n",
        "    return bow"
      ]
    },
    {
      "cell_type": "code",
      "execution_count": null,
      "id": "954cde29",
      "metadata": {
        "id": "954cde29"
      },
      "outputs": [],
      "source": [
        "corpusDicts = []\n",
        "corpusLists = []\n",
        "\n",
        "#Loop through document collections and create a list of them as well as a bag of words for each document\n",
        "for fieldid in gutenberg.fileids():\n",
        "    corpusLists.append(gutenberg.words(fieldid))\n",
        "    corpusDicts.append(makeBowDictionary(gutenberg.words(fieldid)))\n",
        "\n",
        "for fieldid in brown.fileids():\n",
        "    corpusLists.append(brown.words(fieldid))\n",
        "    corpusDicts.append(makeBowDictionary(brown.words(fieldid)))\n",
        "\n"
      ]
    },
    {
      "cell_type": "code",
      "execution_count": null,
      "id": "09753250",
      "metadata": {
        "id": "09753250"
      },
      "outputs": [],
      "source": [
        "#Function to time how long it takes to run a function\n",
        "def timeit(somefunc,*args,repeats=10,**kwargs):\n",
        "    times=[]\n",
        "    #Times the function will run\n",
        "    while repeats>0:\n",
        "\n",
        "        starttime=time.time()\n",
        "        ans=somefunc(*args,**kwargs)\n",
        "        endtime=time.time()\n",
        "\n",
        "        #total time the function has taken to run\n",
        "        timetaken=endtime-starttime\n",
        "        times.append(timetaken)\n",
        "        repeats-=1\n",
        "\n",
        "    #After all repeats calculate averages, std and error.\n",
        "    mean=np.mean(times)\n",
        "    stdev=np.std(times)\n",
        "    error=stdev/(len(times)**0.5)\n",
        "\n",
        "    return (mean,error)"
      ]
    },
    {
      "cell_type": "markdown",
      "id": "61bf211b",
      "metadata": {
        "id": "61bf211b"
      },
      "source": [
        "# Jaccard Similarity"
      ]
    },
    {
      "cell_type": "markdown",
      "id": "40397abc",
      "metadata": {
        "id": "40397abc"
      },
      "source": [
        "Jaccards similarity is a measurement used to define the similarity between two sets. This is done by using the number of elements in the intersection of the two sets and dividing it by the size of the number of elements in both sets. Given two sets A and B, the Jaccards similarity measurement can be obtained with the following formula:\n",
        "    $J(A,B)=\\cfrac{\\mid A\\cap B\\mid}{\\mid A \\cup B\\mid}$\n",
        "In this case a bag version of Jaccard's is used. This allows, to represent duplicate elements. Each document is represented as a bag of words, using a dictionary each key is a word in the document and its value is the frequency in which it appears in the document.\n",
        "\n",
        "The algorithm goes through every word in one of the documents and then checks if these are in the second document, this is used to calculate the intersection, the minimum frequency of the word in both documents. The union is then calculating by adding all the values from both documents and subtracting the intersection as these are duplicated values.\n",
        "\n",
        "## Theoretical analysis\n",
        "There is a for loop that goes through all the elements of a dictionary, assuming the length of the dictionary is 'n this for loop will take O(N), this is assuming there are no hash collisions, the if statement will only take O(1) to run therefore the complexity is O(N). We have to keep in mind this is because we are using a bag of words approach otherwise when using sets, as the algorithm has to loop through both lists the if statement would take O(N) too, so in a sets approach using lists, the runtime would be O(N^2)"
      ]
    },
    {
      "cell_type": "code",
      "execution_count": null,
      "id": "e24097d5",
      "metadata": {
        "id": "e24097d5"
      },
      "outputs": [],
      "source": [
        " def jaccard(doc1,doc2):\n",
        "    intersection={}\n",
        "    #Loop through words in document1\n",
        "    for item in doc1.keys():\n",
        "        #Check id they're in document 1\n",
        "        if item in doc2.keys():\n",
        "            #Get minimum frequency\n",
        "            intersection[item]=min(doc1[item],doc2[item])\n",
        "\n",
        "    #Calculate intersection\n",
        "    intersectiontot=sum(intersection.values())\n",
        "    #Calculate union\n",
        "    union = sum(doc1.values())+sum(doc2.values())-intersectiontot\n",
        "    return intersectiontot/union"
      ]
    },
    {
      "cell_type": "markdown",
      "id": "a6fe4979",
      "metadata": {
        "id": "a6fe4979"
      },
      "source": [
        "## Runtimes"
      ]
    },
    {
      "cell_type": "code",
      "execution_count": null,
      "id": "105d70d8",
      "metadata": {
        "id": "105d70d8"
      },
      "outputs": [],
      "source": [
        "xs = []\n",
        "ys = []\n",
        "#Calculating different runtimes for different sizes\n",
        "for i in range(2000,200000,200):\n",
        "\n",
        "    docA = makeBowDictionary(((corpusLists[1])+corpusLists[11])[:i])\n",
        "    docB =  makeBowDictionary(((corpusLists[2])+corpusLists[12])[:i])\n",
        "\n",
        "    xs.append(len(docB))\n",
        "    ys.append(timeit(jaccard, docA,docB)[0])"
      ]
    },
    {
      "cell_type": "markdown",
      "id": "7d84c455",
      "metadata": {
        "id": "7d84c455"
      },
      "source": [
        "The following graph shows the different runtimes for Jaccards algorithm when inputting documents of different sizes"
      ]
    },
    {
      "cell_type": "code",
      "execution_count": null,
      "id": "4f03de28",
      "metadata": {
        "scrolled": true,
        "id": "4f03de28",
        "outputId": "f48e2ddf-9e41-408a-a9c0-290e1f0e6a51"
      },
      "outputs": [
        {
          "data": {
            "text/plain": [
              "Text(0.5, 1.0, 'Running Time of jaccard')"
            ]
          },
          "execution_count": 292,
          "metadata": {},
          "output_type": "execute_result"
        },
        {
          "data": {
            "image/png": "[encoded data removed]",
            "text/plain": [
              "<Figure size 432x288 with 1 Axes>"
            ]
          },
          "metadata": {
            "needs_background": "light"
          },
          "output_type": "display_data"
        }
      ],
      "source": [
        "plt.subplots_adjust(1,0,2.5,0.5)\n",
        "plt.subplot(121)\n",
        "plt.plot(xs,ys)\n",
        "plt.xlabel(\"Length of Document\")\n",
        "plt.ylabel(\"Average time\")\n",
        "plt.title(\"Running Time of jaccard\")"
      ]
    },
    {
      "cell_type": "markdown",
      "id": "a03247c7",
      "metadata": {
        "id": "a03247c7"
      },
      "source": [
        "## Calculating complexity and constant\n",
        "To calculate the complexity we can plot logarithm graphs. Since the complexity can be defined as $y=c_a.x^n$, where $c_a$ is the constant for my own computer, then we can use logarithms on the previous equation which will give us: $\\log(y) = \\log(c_a) + n \\log(x)$\n",
        "Plotting a graph of $\\log(y)$ against $\\log(x)$ the gradient will represent n and the y intercept will be $\\log(c_a)$."
      ]
    },
    {
      "cell_type": "code",
      "execution_count": null,
      "id": "8639573c",
      "metadata": {
        "id": "8639573c",
        "outputId": "153de2fa-0cef-4f5a-9e57-7979f274a66d"
      },
      "outputs": [
        {
          "data": {
            "image/png": "[encoded data removed]",
            "text/plain": [
              "<Figure size 432x288 with 1 Axes>"
            ]
          },
          "metadata": {
            "needs_background": "light"
          },
          "output_type": "display_data"
        },
        {
          "name": "stdout",
          "output_type": "stream",
          "text": [
            "Slope is 0.9793240784704175, intercept is -6.555619184521418 and error is 0.0068792355245654874\n"
          ]
        }
      ],
      "source": [
        "\n",
        "logxs=[np.log10(x) for x in xs]\n",
        "logys=[np.log10(y) for y in ys]\n",
        "\n",
        "plt.scatter(logxs,logys)\n",
        "plt.xlabel(\"Log of Length of List\")\n",
        "plt.ylabel(\"Log of Average time to compare\")\n",
        "plt.title(\"Average Case Running Time of Jaccards similarity\")\n",
        "plt.show()\n",
        "\n",
        "slope, intercept, r_value, p_value, std_err = stats.linregress(logxs, logys)\n",
        "print(\"Slope is {}, intercept is {} and error is {}\".format(slope,intercept,std_err))"
      ]
    },
    {
      "cell_type": "markdown",
      "id": "81f8461d",
      "metadata": {
        "id": "81f8461d"
      },
      "source": [
        "The results give us the slope being 0.98 this is very close to one, which agrees with the theoretical analysis that tells us $O(n)$ which is the same as $O(n^1)$ The intercept is -6.56, which therefore means the constant for my computer is $10 ^{-6.56}$"
      ]
    },
    {
      "cell_type": "markdown",
      "id": "97aa6d95",
      "metadata": {
        "id": "97aa6d95"
      },
      "source": [
        "# Cosine similarity\n"
      ]
    },
    {
      "cell_type": "markdown",
      "id": "cb108435",
      "metadata": {
        "id": "cb108435"
      },
      "source": [
        "Cosine similarity is a metric used to calculate how similar two documents are\n",
        "The advantage when using this measurement that when comparing word frequencies, the longer the documents are the more likely to be more common words even if documents are not actually similar. similar.  are irrespective of their size.\n",
        "Mathematically,  the cosine of the angle between two vectors projected in a multi-dimensional space is measured.\n",
        "The formula to calculate the cosine similarity is the following:\n",
        "$Cos(d1,d2) = \\cfrac{d1 . d2}{\\sqrt{d1.d1 x d2.d2}}$\n",
        "\n",
        "## Theoretical runtime\n",
        "<> program runs asldslajdasdjasl"
      ]
    },
    {
      "cell_type": "code",
      "execution_count": null,
      "id": "0805e351",
      "metadata": {
        "id": "0805e351"
      },
      "outputs": [],
      "source": [
        "#Given a list of dictionaries make a matrix out of them\n",
        "def make_matrix(list_of_dicts):\n",
        "    #first of all make a list of all of the features that occur in any document - these will be the dimensions of the matrix\n",
        "    allfeatures={}\n",
        "    for docdict in list_of_dicts:\n",
        "        for feat in docdict.keys():\n",
        "            allfeatures[feat]=1\n",
        "\n",
        "    dimensions=list(allfeatures.keys())\n",
        "    #don't strictly need to sort it - but it is good practise to make sure it is reproducible\n",
        "    sorted(dimensions)\n",
        "\n",
        "    matrix=[]\n",
        "    #each row in the matrix will be one of the dimensions\n",
        "    for dimension in dimensions:\n",
        "        row=[]\n",
        "        #look up the appropriate value for each document\n",
        "        for docdict in list_of_dicts:\n",
        "            row.append(docdict.get(dimension,0)) #this will append the document's value if present, 0 otherwise\n",
        "        matrix.append(row)\n",
        "\n",
        "\n",
        "    return matrix\n",
        "\n",
        "##it might be useful to be able to transpose a matrix so we can compare documents\n",
        "def transpose(matrix):\n",
        "    transposed=[]\n",
        "    for i in range(0,len(matrix[0])):\n",
        "        transposed.append([row[i] for row in matrix])\n",
        "\n",
        "    return transposed\n",
        "\n",
        "\n",
        ""
      ]
    },
    {
      "cell_type": "code",
      "execution_count": null,
      "id": "8219a241",
      "metadata": {
        "id": "8219a241"
      },
      "outputs": [],
      "source": [
        "#Calculate dot product\n",
        "def dot(v1,v2):\n",
        "    total=0\n",
        "    for i in range(0,len(v1)):\n",
        "        total+=v1[i]*v2[i]\n",
        "\n",
        "    return total\n",
        "\n",
        "#Cosine similarity using custom product\n",
        "def cosineCustom(v1,v2):\n",
        "\n",
        "    return dot(v1,v2)/math.sqrt(dot(v1,v1)*dot(v2,v2))\n",
        "\n",
        "#Cosine similarity using numpy\n",
        "def cosineNp(v1,v2):\n",
        "    return np.dot(v1,v2)/math.sqrt(np.dot(v1,v1)*np.dot(v2,v2))\n",
        "\n",
        "\n"
      ]
    },
    {
      "cell_type": "code",
      "execution_count": null,
      "id": "2f37f720",
      "metadata": {
        "scrolled": true,
        "id": "2f37f720"
      },
      "outputs": [],
      "source": [
        "xsCosDot = []\n",
        "ysCosDot=[]\n",
        "\n",
        "#Calculating different runtimes for different sizes\n",
        "for i in range(1000,500000,5000):\n",
        "\n",
        "    docA = makeBowDictionary(((corpusLists[2])+corpusLists[11])[:i])\n",
        "    docB =  makeBowDictionary(((corpusLists[4])+corpusLists[12])[:i])\n",
        "    amatrix=make_matrix([docA,docB])\n",
        "    docvectors = transpose(amatrix)\n",
        "    xsCosDot.append(len(docB))\n",
        "    ysCosDot.append(timeit(cosineCustom, docvectors[0],docvectors[1])[0])\n",
        ""
      ]
    },
    {
      "cell_type": "markdown",
      "id": "04dca12f",
      "metadata": {
        "id": "04dca12f"
      },
      "source": [
        "The following graph shows the different runtimes for Cosine's algorithm when inputting documents of different sizes using the custom dot product"
      ]
    },
    {
      "cell_type": "code",
      "execution_count": null,
      "id": "338f1553",
      "metadata": {
        "id": "338f1553",
        "outputId": "82056f4a-41a5-4791-bc26-10b05d7f5639"
      },
      "outputs": [
        {
          "data": {
            "image/png": "[encoded data removed]",
            "text/plain": [
              "<Figure size 432x288 with 1 Axes>"
            ]
          },
          "metadata": {
            "needs_background": "light"
          },
          "output_type": "display_data"
        }
      ],
      "source": [
        "plt.subplots_adjust(1,0,2.5,0.5)\n",
        "plt.subplot(121)\n",
        "plt.plot(xsCosDot,ysCosDot)\n",
        "plt.xlabel(\"Length of List\")\n",
        "plt.ylabel(\"Average time\")\n",
        "plt.title(\"Running Time of Cosine\")\n",
        "import scipy.stats as stats\n"
      ]
    },
    {
      "cell_type": "markdown",
      "id": "d70b5694",
      "metadata": {
        "id": "d70b5694"
      },
      "source": [
        "## Calculating complexity and constant\n",
        "To calculate the complexity and constant the process is the same as previously described we apply logarithms to get  $log(𝑦)=log(𝑐𝑎)+𝑛log(𝑥)$"
      ]
    },
    {
      "cell_type": "code",
      "execution_count": null,
      "id": "6b5e23b5",
      "metadata": {
        "id": "6b5e23b5",
        "outputId": "9e6bc7cd-9a67-499a-a45c-574fb69aabf4"
      },
      "outputs": [
        {
          "data": {
            "image/png": "[encoded data removed]",
            "text/plain": [
              "<Figure size 432x288 with 1 Axes>"
            ]
          },
          "metadata": {
            "needs_background": "light"
          },
          "output_type": "display_data"
        },
        {
          "name": "stdout",
          "output_type": "stream",
          "text": [
            "Slope is 0.8572147073453654, intercept is -5.874015323835581 and error is 0.01249463119979563\n"
          ]
        }
      ],
      "source": [
        "\n",
        "logCustomxs=[np.log10(x) for x in xsCosDot]\n",
        "logCustomys=[np.log10(y) for y in ysCosDot]\n",
        "\n",
        "plt.plot(logCustomxs,logCustomys)\n",
        "plt.xlabel(\"Log of Length of List\")\n",
        "plt.ylabel(\"Log of Average time to compare\")\n",
        "plt.title(\"Running Time of cosine similarity\")\n",
        "plt.show()\n",
        "\n",
        "slopeCosCustom, intercept, r_value, p_value, std_err = stats.linregress(logCustomxs, logCustomys)\n",
        "print(\"Slope is {}, intercept is {} and error is {}\".format(slopeCosCustom,intercept,std_err))"
      ]
    },
    {
      "cell_type": "markdown",
      "id": "8ed87362",
      "metadata": {
        "id": "8ed87362"
      },
      "source": [
        "The results give us a slope of 0.857, this is very close to one, which agrees with the theoretical analysis that tells us 𝑂(𝑛) which is the same as $𝑂(𝑛^1)$. The intercept is -5.87, which therefore means the constant for my computer is  $10^{−6.56}$"
      ]
    },
    {
      "cell_type": "markdown",
      "id": "37b0ae02",
      "metadata": {
        "id": "37b0ae02"
      },
      "source": [
        "## Numpy implementation\n",
        "The following code records the times for cosine similarity but this time using numpys dot product implementation"
      ]
    },
    {
      "cell_type": "code",
      "execution_count": null,
      "id": "9c603d34",
      "metadata": {
        "id": "9c603d34"
      },
      "outputs": [],
      "source": [
        "\n",
        "xsCosNp = []\n",
        "ysCosNp=[]\n",
        "#Calculating different runtimes for different sizes\n",
        "for i in range(1000,500000,5000):\n",
        "\n",
        "    docA = makeBowDictionary(((corpusLists[2])+corpusLists[11])[:i])\n",
        "    docB =  makeBowDictionary(((corpusLists[4])+corpusLists[12])[:i])\n",
        "    amatrix=make_matrix([docA,docB])\n",
        "    docvectors = transpose(amatrix)\n",
        "\n",
        "    xsCosNp.append(len(docB))\n",
        "    ysCosNp.append(timeit(cosineNp, docvectors[0],docvectors[1])[0])"
      ]
    },
    {
      "cell_type": "code",
      "execution_count": null,
      "id": "b7b0ae0e",
      "metadata": {
        "id": "b7b0ae0e"
      },
      "outputs": [],
      "source": [
        "xsCosNp = []\n",
        "ysCosNp=[]\n",
        "#Calculating different runtimes for different sizes\n",
        "for i in range(1000,500000,5000):\n",
        "    docA = makeBowDictionary(((corpusLists[2])+corpusLists[11])[:i])\n",
        "    docB =  makeBowDictionary(((corpusLists[4])+corpusLists[12])[:i])\n",
        "    amatrix=make_matrix([docA,docB])\n",
        "    docvectors = transpose(amatrix)\n",
        "    docvectors = np.array(docvectors)\n",
        "    xsCosNp.append(len(docB))\n",
        "    ysCosNp.append(timeit(cosineNp, docvectors[0],docvectors[1])[0])"
      ]
    },
    {
      "cell_type": "markdown",
      "id": "2392ca06",
      "metadata": {
        "id": "2392ca06"
      },
      "source": [
        "The following graph shows the different runtimes for Cosine's algorithm when inputting documents of different sizes using the numpy dot product implementation"
      ]
    },
    {
      "cell_type": "code",
      "execution_count": null,
      "id": "781008ca",
      "metadata": {
        "id": "781008ca",
        "outputId": "827f44d5-4616-4a83-daf5-25a9dc0b0f70"
      },
      "outputs": [
        {
          "data": {
            "image/png": "[encoded data removed]",
            "text/plain": [
              "<Figure size 432x288 with 1 Axes>"
            ]
          },
          "metadata": {
            "needs_background": "light"
          },
          "output_type": "display_data"
        }
      ],
      "source": [
        "plt.subplots_adjust(1,0,2.5,0.5)\n",
        "plt.subplot(121)\n",
        "plt.plot(xsCosNp,ysCosNp)\n",
        "plt.xlabel(\"Length of List\")\n",
        "plt.ylabel(\"Average time\")\n",
        "plt.title(\"Worst Case Running Time of Cosine\")\n",
        "import scipy.stats as stats\n"
      ]
    },
    {
      "cell_type": "markdown",
      "id": "b02cff7b",
      "metadata": {
        "id": "b02cff7b"
      },
      "source": [
        "## Calculating complexity and constant\n",
        "To calculate the complexity and constant the process is the same as previously described we apply logarithms to get  $log(𝑦)=log(𝑐𝑎)+𝑛log(𝑥)$"
      ]
    },
    {
      "cell_type": "code",
      "execution_count": null,
      "id": "34e1b3f0",
      "metadata": {
        "id": "34e1b3f0",
        "outputId": "c8cc0cfb-41bf-4a9b-83e3-d2d2a4c35af9"
      },
      "outputs": [
        {
          "data": {
            "image/png": "[encoded data removed]",
            "text/plain": [
              "<Figure size 432x288 with 1 Axes>"
            ]
          },
          "metadata": {
            "needs_background": "light"
          },
          "output_type": "display_data"
        },
        {
          "name": "stdout",
          "output_type": "stream",
          "text": [
            "Slope is 0.6101131722490294, intercept is -7.0190695301582515 and error is 0.014160462136604001\n"
          ]
        }
      ],
      "source": [
        "\n",
        "logNpxs=[np.log10(x) for x in xsCosNp]\n",
        "logNpys=[np.log10(y) for y in ysCosNp]\n",
        "\n",
        "plt.plot(logNpxs,logNpys)\n",
        "plt.xlabel(\"Log of Length of List\")\n",
        "plt.ylabel(\"Log of Average time to compare\")\n",
        "plt.title(\"Running Time of cosine similarity\")\n",
        "plt.show()\n",
        "\n",
        "slopeCosNp, intercept, r_value, p_value, std_err = stats.linregress(logNpxs, logNpys)\n",
        "print(\"Slope is {}, intercept is {} and error is {}\".format(slopeCosNp,intercept,std_err))\n",
        "\n"
      ]
    },
    {
      "cell_type": "markdown",
      "id": "f7ac613e",
      "metadata": {
        "id": "f7ac613e"
      },
      "source": [
        "The results give us a slope of 0.856, this is very close to one, which agrees with the theoretical analysis that tells us 𝑂(𝑛) which is the same as $𝑂(𝑛^1)$. The intercept is -5.74, which therefore means the constant for my computer is  $10^{−5.74}$"
      ]
    },
    {
      "cell_type": "markdown",
      "id": "cec37dd2",
      "metadata": {
        "id": "cec37dd2"
      },
      "source": [
        "## Comparing Cosine similarity with different dot products\n",
        "The following graphs outputs the different runtimes for the two previous implementation.\n",
        "Theoretically numpy should have faster running times as numpy functions are implemented in C, it is also able to divide a task into separate subtasks and perform them in parallel."
      ]
    },
    {
      "cell_type": "code",
      "execution_count": null,
      "id": "8d54fddb",
      "metadata": {
        "id": "8d54fddb",
        "outputId": "a4630748-9650-4d1f-d93c-2ea9ae922370"
      },
      "outputs": [
        {
          "data": {
            "image/png": "[encoded data removed]",
            "text/plain": [
              "<Figure size 432x288 with 1 Axes>"
            ]
          },
          "metadata": {
            "needs_background": "light"
          },
          "output_type": "display_data"
        }
      ],
      "source": [
        "plt.plot(ysCosDot)\n",
        "plt.plot(ysCosNp)\n",
        "plt.title(\"Comparing two measures\")\n",
        "label = [\"Cosine similarity with custom dot product\",\"Cosine similarity with numpy dot product\"]\n",
        "plt.legend(label, loc = 0, ncol = 2)\n",
        "plt.ylabel('Cosine run time')\n",
        "plt.show()\n"
      ]
    },
    {
      "cell_type": "code",
      "execution_count": null,
      "id": "a0a8b9ad",
      "metadata": {
        "id": "a0a8b9ad",
        "outputId": "be74ee28-da2d-4192-fcd7-e4ed65cf2951"
      },
      "outputs": [
        {
          "name": "stdout",
          "output_type": "stream",
          "text": [
            "CustomDot complexity n^ 0.8572147073453654 Numpy complexity n^ 0.6101131722490294\n"
          ]
        }
      ],
      "source": [
        "print(\"CustomDot complexity n^\",slopeCosCustom,\"Numpy complexity n^\", slopeCosNp)"
      ]
    },
    {
      "cell_type": "markdown",
      "id": "c008b9d2",
      "metadata": {
        "id": "c008b9d2"
      },
      "source": [
        "The results show that numpy is faster in this case  in terms of runtime, which is what was expected, the complexity for numpy is almos 0.25 less than the custom implementation."
      ]
    },
    {
      "cell_type": "markdown",
      "id": "8683e7c4",
      "metadata": {
        "id": "8683e7c4"
      },
      "source": [
        "# Cosine Similarity using Sparse representation\n"
      ]
    },
    {
      "cell_type": "markdown",
      "source": [
        "The formula used to calculate similarity for this implementation is the same as the previous cosine implementations, the difference is how the dot product is calculated as the data is input through a bag of words dictionary. Therefore to calculate the dot product, the dot function loops through every word in the first document if the word does not exist in the second document it will be counted as a 0."
      ],
      "metadata": {
        "id": "dY9KvvwTH1La"
      },
      "id": "dY9KvvwTH1La"
    },
    {
      "cell_type": "code",
      "execution_count": null,
      "id": "4f7d13e2",
      "metadata": {
        "id": "4f7d13e2"
      },
      "outputs": [],
      "source": [
        "import math\n",
        "import numpy as np\n",
        "\n",
        "def dotDict(v1,v2):\n",
        "    total=0\n",
        "    for word,count in v1.items():\n",
        "        total += count * v2.get(word,0)\n",
        "    return total\n",
        "\n",
        "def cosineDict(v1,v2):\n",
        "    return dotDict(v1,v2)/math.sqrt(dotDict(v1,v1)*dotDict(v2,v2))\n"
      ]
    },
    {
      "cell_type": "markdown",
      "id": "9ec69841",
      "metadata": {
        "id": "9ec69841"
      },
      "source": [
        "## Function Correctness"
      ]
    },
    {
      "cell_type": "code",
      "execution_count": null,
      "id": "aa8e04f1",
      "metadata": {
        "id": "aa8e04f1",
        "outputId": "a1b61a4e-121f-4a7c-ef33-df6844935bf6"
      },
      "outputs": [
        {
          "name": "stdout",
          "output_type": "stream",
          "text": [
            "Vector similarity 0.9850692510919175\n",
            "Similarity  0.9850692510919175\n"
          ]
        }
      ],
      "source": [
        "docA = makeBowDictionary((corpusLists[1]))\n",
        "docB =  makeBowDictionary((corpusLists[2]))\n",
        "amatrix = make_matrix([docA,docB])\n",
        "docvectors = transpose(amatrix)\n",
        "\n",
        "print(\"Vector similarity\",cosineDot(docvectors[0],docvectors[1]))\n",
        "\n",
        "print(\"Similarity \",cosineDict(docA,docB))\n"
      ]
    },
    {
      "cell_type": "markdown",
      "id": "28a03020",
      "metadata": {
        "id": "28a03020"
      },
      "source": [
        "To evaluate that the function returns the correct result I calculated the similarity using the sparse function, which uses dictionaries and the function using the custom Dot product implementation, the outputs from both functions are the same therefore we can assume that the sparse implementation is correct as the calculated similarity produced is the same one produced by the previous implementation.\n",
        "\n"
      ]
    },
    {
      "cell_type": "code",
      "execution_count": null,
      "id": "0a53c2e5",
      "metadata": {
        "id": "0a53c2e5"
      },
      "outputs": [],
      "source": [
        "\n",
        "xsCosDict = []\n",
        "ysCosDict=[]\n",
        "#Calculating different runtimes for different sizes\n",
        "for i in range(1000,300000,2000):\n",
        "\n",
        "    docA = makeBowDictionary(((corpusLists[1])+corpusLists[11])[:i])\n",
        "    docB =  makeBowDictionary(((corpusLists[2])+corpusLists[12])[:i])\n",
        "\n",
        "    xsCosDict.append(len(docB))\n",
        "    ysCosDict.append(timeit(cosineDict, docA,docB)[0])"
      ]
    },
    {
      "cell_type": "markdown",
      "source": [
        "The following graph shows the different runtimes for Cosine algorithm with a sparse input  representing documents of different sizes"
      ],
      "metadata": {
        "id": "bDy7AvcQH_40"
      },
      "id": "bDy7AvcQH_40"
    },
    {
      "cell_type": "code",
      "execution_count": null,
      "id": "cc9b161e",
      "metadata": {
        "id": "cc9b161e",
        "outputId": "71b66c81-7469-4150-8b6a-1b9c753b6f74"
      },
      "outputs": [
        {
          "data": {
            "text/plain": [
              "Text(0.5, 1.0, 'Worst Case Running Time of Cosine')"
            ]
          },
          "execution_count": 541,
          "metadata": {},
          "output_type": "execute_result"
        },
        {
          "data": {
            "image/png": "[encoded data removed]",
            "text/plain": [
              "<Figure size 432x288 with 1 Axes>"
            ]
          },
          "metadata": {
            "needs_background": "light"
          },
          "output_type": "display_data"
        }
      ],
      "source": [
        "plt.subplots_adjust(1,0,2.5,0.5)\n",
        "plt.subplot(121)\n",
        "plt.plot(xsCosDict,ysCosDict)\n",
        "plt.xlabel(\"Length of Document\")\n",
        "plt.ylabel(\"Average time\")\n",
        "plt.title(\"Worst Case Running Time of Cosine\")\n",
        "\n"
      ]
    },
    {
      "cell_type": "markdown",
      "id": "225366e4",
      "metadata": {
        "id": "225366e4"
      },
      "source": [
        "## Runtime and constant"
      ]
    },
    {
      "cell_type": "code",
      "execution_count": null,
      "id": "099f15e4",
      "metadata": {
        "id": "099f15e4",
        "outputId": "02e89454-8b60-435c-f6ed-01a706bb29ce"
      },
      "outputs": [
        {
          "data": {
            "image/png": "[encoded data removed]",
            "text/plain": [
              "<Figure size 432x288 with 1 Axes>"
            ]
          },
          "metadata": {
            "needs_background": "light"
          },
          "output_type": "display_data"
        },
        {
          "name": "stdout",
          "output_type": "stream",
          "text": [
            "Slope is 0.8610941383073433, intercept is -5.952877735184288 and error is 0.008053540554504678\n"
          ]
        }
      ],
      "source": [
        "\n",
        "logxs=[np.log10(x) for x in xsCosDict]\n",
        "logys=[np.log10(y) for y in ysCosDict]\n",
        "\n",
        "plt.plot(logxs,logys)\n",
        "plt.xlabel(\"Log of Length of List\")\n",
        "plt.ylabel(\"Log of Average time to compare\")\n",
        "plt.title(\"Average Case Running Time of cosine similarity\")\n",
        "plt.show()\n",
        "\n",
        "slope, intercept, r_value, p_value, std_err = stats.linregress(logxs, logys)\n",
        "print(\"Slope is {}, intercept is {} and error is {}\".format(slope,intercept,std_err))"
      ]
    },
    {
      "cell_type": "markdown",
      "id": "11952211",
      "metadata": {
        "id": "11952211"
      },
      "source": [
        "The results give us a slope of 0.857, this is very close to one, which agrees with the theoretical analysis that tells us 𝑂(𝑛) which is the same as $𝑂(𝑛^1)$. The intercept is -5.87, which therefore means the constant for my computer is  $10^{−6.56}$"
      ]
    },
    {
      "cell_type": "markdown",
      "id": "f6d7384b",
      "metadata": {
        "id": "f6d7384b"
      },
      "source": [
        "# All pairs similarities"
      ]
    },
    {
      "cell_type": "markdown",
      "source": [
        "The following code implements a function which iterates through all documents to calculate their respective similarities. It allows different ways of calculating the similarity.\n",
        " Theoretically the algorithm should have a runtime of $O(n^2m)$ This is because There are 2 for loops which each run for the length of the document collection, this being n, then the similarity for each pair of documents is calculated, as shown before if the length of the document is m this is O(m)"
      ],
      "metadata": {
        "id": "eG_s9OkEKhoR"
      },
      "id": "eG_s9OkEKhoR"
    },
    {
      "cell_type": "code",
      "execution_count": null,
      "id": "75fde7ec",
      "metadata": {
        "id": "75fde7ec"
      },
      "outputs": [],
      "source": [
        "def allPairSimilarities(docCollection, similarity):\n",
        "    similarities = []\n",
        "    for docA in docCollection:\n",
        "        rowsims=[]\n",
        "        for docB in docCollection:\n",
        "            if similarity == \"jaccard\":\n",
        "                rowsims.append(jaccard(docA,docB))\n",
        "            elif similarity ==\"cosine\":\n",
        "                rowsims.append(cosineDot(docA,docB))\n",
        "            else:\n",
        "                rowsims.append(cosineDict(docA,docB))\n",
        "    similarities.append(rowsims)\n",
        "    return similarities"
      ]
    },
    {
      "cell_type": "code",
      "execution_count": null,
      "id": "a70be24e",
      "metadata": {
        "id": "a70be24e"
      },
      "outputs": [],
      "source": [
        "xsAllPairsCosine = []\n",
        "ysAllPairsCosine = []\n",
        "\n",
        "xsAllPairsJaccard=[]\n",
        "ysAllPairsJaccard=[]\n",
        "\n",
        "for i in range(10,30,2):\n",
        "    print(i)\n",
        "    amatrix = make_matrix(corpusDicts[:i])\n",
        "    docvectors = transpose(amatrix)\n",
        "    xsAllPairsCosine.append(i)\n",
        "    ysAllPairsCosine.append(timeit(allPairSimilarities,docvectors,\"cosine\")[0])\n",
        "    print(i)\n",
        "    xsAllPairsJaccard.append(i)\n",
        "    ysAllPairsJaccard.append(timeit(allPairSimilarities,corpusDicts[:i],\"jaccard\")[0])"
      ]
    },
    {
      "cell_type": "code",
      "execution_count": null,
      "id": "6d2f5545",
      "metadata": {
        "id": "6d2f5545",
        "outputId": "ed8f6cfb-616d-494a-9079-ea8fe6204a8e"
      },
      "outputs": [
        {
          "data": {
            "image/png": "[encoded data removed]",
            "text/plain": [
              "<Figure size 432x288 with 1 Axes>"
            ]
          },
          "metadata": {
            "needs_background": "light"
          },
          "output_type": "display_data"
        }
      ],
      "source": [
        "plt.figure(1)\n",
        "plt.plot(xsAllPairsJaccard[:15],ysAllPairsJaccard[:15])\n",
        "plt.show()"
      ]
    },
    {
      "cell_type": "markdown",
      "id": "98afa3cf",
      "metadata": {
        "id": "98afa3cf"
      },
      "source": [
        "## Runtim and Constant"
      ]
    },
    {
      "cell_type": "code",
      "execution_count": null,
      "id": "c4cefb16",
      "metadata": {
        "id": "c4cefb16",
        "outputId": "479f11ae-3f46-4dd4-a293-161831cee700"
      },
      "outputs": [
        {
          "data": {
            "image/png": "[encoded data removed]",
            "text/plain": [
              "<Figure size 432x288 with 1 Axes>"
            ]
          },
          "metadata": {
            "needs_background": "light"
          },
          "output_type": "display_data"
        },
        {
          "name": "stdout",
          "output_type": "stream",
          "text": [
            "Slope is 1.316830414007544, intercept is -2.133960291398416 and error is 0.12629320754490753\n"
          ]
        }
      ],
      "source": [
        "\n",
        "logxsAllPairsJaccard=[np.log10(x) for x in xsAllPairsJaccard[:15]]\n",
        "logysAllPairsJaccard=[np.log10(y) for y in ysAllPairsJaccard]\n",
        "\n",
        "plt.plot(logxsAllPairsJaccard,logysAllPairsJaccard)\n",
        "plt.xlabel(\"Log of Length of List\")\n",
        "plt.ylabel(\"Log of Average time to compare\")\n",
        "plt.title(\"Average Case Running Time of cosine similarity\")\n",
        "plt.show()\n",
        "\n",
        "slope, intercept, r_value, p_value, std_err = stats.linregress(logxs, logys)\n",
        "print(\"Slope is {}, intercept is {} and error is {}\".format(slope,intercept,std_err))"
      ]
    },
    {
      "cell_type": "markdown",
      "id": "ffa0be37",
      "metadata": {
        "id": "ffa0be37"
      },
      "source": [
        "# Parallel computing"
      ]
    },
    {
      "cell_type": "code",
      "execution_count": null,
      "id": "f40a584a",
      "metadata": {
        "id": "f40a584a",
        "outputId": "2950a86a-77bb-4be5-85fe-2a6d2da4f496"
      },
      "outputs": [
        {
          "name": "stdout",
          "output_type": "stream",
          "text": [
            "('1', '2')\n",
            "('1', '4')\n",
            "('2', '3')\n",
            "('3', '1')\n",
            "('3', '4')\n",
            "('4', '2')\n",
            "('1', '2')\n",
            "('1', '4')\n",
            "('2', '3')\n",
            "('3', '1')\n",
            "('3', '4')\n",
            "('4', '2')\n",
            "(('1', '2'), [(1, 1), (1, 1)])\n",
            "(('1', '4'), [(1, 1), (1, 2)])\n",
            "(('2', '3'), [(1, 1), (1, 1)])\n",
            "(('3', '1'), [(1, 1), (1, 1)])\n",
            "(('3', '4'), [(1, 1), (1, 1)])\n",
            "(('4', '2'), [(1, 1), (2, 1), (1, 1)])\n",
            "(('1', '2'), [(1, 1), (1, 1)])\n",
            "(('1', '4'), [(1, 1), (1, 2)])\n",
            "(('2', '3'), [(1, 1), (1, 1)])\n",
            "(('3', '1'), [(1, 1), (1, 1)])\n",
            "(('3', '4'), [(1, 1), (1, 1)])\n",
            "(('4', '2'), [(1, 1), (2, 1), (1, 1)])\n"
          ]
        }
      ],
      "source": [
        "\n",
        "def map_reduce_parallel(inputs,mapper,reducer,mapper2,reducer2,mapprocesses=3,reduceprocesses=2):\n",
        "\n",
        "    collector=defaultdict(list)  #this dictionary is where we will store intermediate results\n",
        "                                 #it will map keys to lists of values (default value of a list is [])\n",
        "                                 #in a real system, this would be stored in individual files at the map nodes\n",
        "                                 #and then transferred to the reduce nodes\n",
        "\n",
        "    mappool = Pool(processes=mapprocesses)\n",
        "    #map stage\n",
        "\n",
        "    mapresults=mappool.map(mapper,inputs)\n",
        "    mappool.close()\n",
        "\n",
        "    for mapresult in mapresults:\n",
        "        for (key, value) in mapresult.items():     #pass each input to the mapper function and receive back each key,value pair yielded\n",
        "            collector[key].append(value)     #append the value to the list for that key in the intermediate store\n",
        "    #reduce stage\n",
        "    outputs=[]\n",
        "    reducepool = Pool(processes=reduceprocesses)\n",
        "    reduceresults=reducepool.map(reducer,collector.items())\n",
        "    reducepool.close()\n",
        "\n",
        "\n",
        "    mappool = Pool(processes=mapprocesses)\n",
        "    mapresults=mappool.map(mapper2,reduceresults)\n",
        "    mappool.close()\n",
        "    ocurrences = {}\n",
        "    for item in mapresults:\n",
        "        for (key,value) in item.items():\n",
        "            o = ocurrences.get(key,[])\n",
        "            ocurrences[key]= o+[value]\n",
        "    reducepool = Pool(processes=reduceprocesses)\n",
        "    reduceresults=reducepool.map(reducer2,ocurrences.items())\n",
        "    reducepool.close()\n",
        "\n",
        "    return reduceresults"
      ]
    },
    {
      "cell_type": "code",
      "execution_count": null,
      "id": "9e8cb53f",
      "metadata": {
        "id": "9e8cb53f",
        "outputId": "af8632ad-9791-4ab4-9bcc-fda5fc72e1f4"
      },
      "outputs": [
        {
          "data": {
            "text/plain": [
              "[{('1', '2'): 0.5},\n",
              " {('1', '3'): 0.5},\n",
              " {('1', '4'): 0.3},\n",
              " {('2', '1'): 0.5},\n",
              " {('2', '3'): 0.5},\n",
              " {('2', '4'): 0.2222222222222222},\n",
              " {('3', '1'): 0.5},\n",
              " {('3', '2'): 0.5},\n",
              " {('3', '4'): 0.5},\n",
              " {('4', '1'): 0.3},\n",
              " {('4', '2'): 0.2222222222222222},\n",
              " {('4', '3'): 0.5}]"
            ]
          },
          "execution_count": 792,
          "metadata": {},
          "output_type": "execute_result"
        }
      ],
      "source": [
        "inputs = [[\"1\",\"foo\",\"bar\",\"test\"],[\"2\",\"hello\",\"test\",\"foo\"],[\"3\",\"hello\",\"bar\",\"foo\"],[\"4\",\"test\",\"foo\",\"test\",\"hello\"]]\n",
        "map_reduce_parallel(inputs,helper.map_wc1, helper.reduce,helper.mapWordWeights ,helper.reducerSim,mapprocesses=3,reduceprocesses=2)"
      ]
    },
    {
      "cell_type": "code",
      "execution_count": null,
      "id": "1de74538",
      "metadata": {
        "id": "1de74538",
        "outputId": "abca7217-81eb-4739-b097-de9144e1bc3f"
      },
      "outputs": [
        {
          "name": "stdout",
          "output_type": "stream",
          "text": [
            "1,2: 0.5\n",
            "2,3: 0.5\n",
            "3,4: 0.3779644730092272\n"
          ]
        }
      ],
      "source": [
        "docA = makeBowDictionary(inputs[0])\n",
        "docB =  makeBowDictionary(inputs[1])\n",
        "docC =  makeBowDictionary(inputs[2])\n",
        "docD = makeBowDictionary(inputs[3])\n",
        "print(\"1,2:\",cosineDict(docA,docB))\n",
        "print(\"2,3:\",cosineDict(docB,docC))\n",
        "print(\"3,4:\",cosineDict(docC,docD))"
      ]
    },
    {
      "cell_type": "code",
      "execution_count": null,
      "id": "83e997dd",
      "metadata": {
        "id": "83e997dd"
      },
      "outputs": [],
      "source": [
        "docIDs = []\n",
        "for i in range(len(corpusLists)):\n",
        "    x = list(corpusLists[i])\n",
        "    x.insert(0,i)\n",
        "    docIDs.append(x)\n"
      ]
    },
    {
      "cell_type": "code",
      "execution_count": null,
      "id": "1b866bcc",
      "metadata": {
        "id": "1b866bcc",
        "outputId": "74ee59e5-b793-4ba4-f9b1-de79e63eef91"
      },
      "outputs": [
        {
          "data": {
            "text/plain": [
              "[{(0, 1): 4.750523865243894e-09},\n",
              " {(0, 2): 3.420934089445317e-09},\n",
              " {(0, 3): 3.3604010688373837e-10},\n",
              " {(0, 4): 4.84296999419484e-08},\n",
              " {(0, 5): 7.548847873910136e-09},\n",
              " {(0, 6): 2.350489968600564e-08},\n",
              " {(0, 7): 1.1246578442132259e-08},\n",
              " {(0, 8): 4.84291693404871e-09},\n",
              " {(0, 9): 5.36897149535307e-09},\n",
              " {(1, 0): 4.750523865243894e-09},\n",
              " {(1, 2): 6.352780635315339e-09},\n",
              " {(1, 3): 6.391851534564496e-10},\n",
              " {(1, 4): 9.251844313174932e-08},\n",
              " {(1, 5): 1.423118796466022e-08},\n",
              " {(1, 6): 4.3584912792834976e-08},\n",
              " {(1, 7): 2.105339164714237e-08},\n",
              " {(1, 8): 8.953936150625733e-09},\n",
              " {(1, 9): 1.0031274904479842e-08},\n",
              " {(2, 0): 3.420934089445317e-09},\n",
              " {(2, 1): 6.352780635315339e-09},\n",
              " {(2, 3): 4.4641272752214286e-10},\n",
              " {(2, 4): 6.521733171093555e-08},\n",
              " {(2, 5): 1.0002799078695565e-08},\n",
              " {(2, 6): 3.0643571176968614e-08},\n",
              " {(2, 7): 1.4996065510296645e-08},\n",
              " {(2, 8): 6.3439781463631855e-09},\n",
              " {(2, 9): 7.0611022609093326e-09},\n",
              " {(3, 0): 3.3604010688373837e-10},\n",
              " {(3, 1): 6.391851534564496e-10},\n",
              " {(3, 2): 4.4641272752214286e-10},\n",
              " {(3, 4): 7.51855771229521e-09},\n",
              " {(3, 5): 1.1228594953823892e-09},\n",
              " {(3, 6): 3.2602534359616176e-09},\n",
              " {(3, 7): 1.631386252218506e-09},\n",
              " {(3, 8): 7.207556509700202e-10},\n",
              " {(3, 9): 8.030348903991943e-10},\n",
              " {(4, 0): 4.84296999419484e-08},\n",
              " {(4, 1): 9.251844313174932e-08},\n",
              " {(4, 2): 6.521733171093555e-08},\n",
              " {(4, 3): 7.51855771229521e-09},\n",
              " {(4, 5): 1.5582070922109413e-07},\n",
              " {(4, 6): 4.5301763350378995e-07},\n",
              " {(4, 7): 2.423834098035946e-07},\n",
              " {(4, 8): 9.532722128717389e-08},\n",
              " {(4, 9): 1.0791776191903657e-07},\n",
              " {(5, 0): 7.548847873910136e-09},\n",
              " {(5, 1): 1.423118796466022e-08},\n",
              " {(5, 2): 1.0002799078695565e-08},\n",
              " {(5, 3): 1.1228594953823892e-09},\n",
              " {(5, 4): 1.5582070922109413e-07},\n",
              " {(5, 6): 7.630334106734258e-08},\n",
              " {(5, 7): 3.656110545348913e-08},\n",
              " {(5, 8): 1.5809833918245403e-08},\n",
              " {(5, 9): 1.7739397529696866e-08},\n",
              " {(6, 0): 2.350489968600564e-08},\n",
              " {(6, 1): 4.3584912792834976e-08},\n",
              " {(6, 2): 3.0643571176968614e-08},\n",
              " {(6, 3): 3.2602534359616176e-09},\n",
              " {(6, 4): 4.5301763350378995e-07},\n",
              " {(6, 5): 7.630334106734258e-08},\n",
              " {(6, 7): 1.1763025813796679e-07},\n",
              " {(6, 8): 4.9361308516920034e-08},\n",
              " {(6, 9): 5.5223428489515086e-08},\n",
              " {(7, 0): 1.1246578442132259e-08},\n",
              " {(7, 1): 2.105339164714237e-08},\n",
              " {(7, 2): 1.4996065510296645e-08},\n",
              " {(7, 3): 1.631386252218506e-09},\n",
              " {(7, 4): 2.423834098035946e-07},\n",
              " {(7, 5): 3.656110545348913e-08},\n",
              " {(7, 6): 1.1763025813796679e-07},\n",
              " {(7, 8): 2.2595674097969873e-08},\n",
              " {(7, 9): 2.575983458190491e-08},\n",
              " {(8, 0): 4.84291693404871e-09},\n",
              " {(8, 1): 8.953936150625733e-09},\n",
              " {(8, 2): 6.3439781463631855e-09},\n",
              " {(8, 3): 7.207556509700202e-10},\n",
              " {(8, 4): 9.532722128717389e-08},\n",
              " {(8, 5): 1.5809833918245403e-08},\n",
              " {(8, 6): 4.9361308516920034e-08},\n",
              " {(8, 7): 2.2595674097969873e-08},\n",
              " {(8, 9): 1.1663065345883946e-08},\n",
              " {(9, 0): 5.36897149535307e-09},\n",
              " {(9, 1): 1.0031274904479842e-08},\n",
              " {(9, 2): 7.0611022609093326e-09},\n",
              " {(9, 3): 8.030348903991943e-10},\n",
              " {(9, 4): 1.0791776191903657e-07},\n",
              " {(9, 5): 1.7739397529696866e-08},\n",
              " {(9, 6): 5.5223428489515086e-08},\n",
              " {(9, 7): 2.575983458190491e-08},\n",
              " {(9, 8): 1.1663065345883946e-08}]"
            ]
          },
          "execution_count": 789,
          "metadata": {},
          "output_type": "execute_result"
        }
      ],
      "source": [
        "map_reduce_parallel(docIDs[:10],helper.map_wc1, helper.reduce,helper.mapWordWeights ,helper.reducerSim,mapprocesses=3,reduceprocesses=2)"
      ]
    },
    {
      "cell_type": "code",
      "execution_count": null,
      "id": "2a7f942c",
      "metadata": {
        "id": "2a7f942c",
        "outputId": "1680115b-d65f-40cb-cf60-39652318a5ae"
      },
      "outputs": [
        {
          "data": {
            "text/plain": [
              "0.9760888427113167"
            ]
          },
          "execution_count": 788,
          "metadata": {},
          "output_type": "execute_result"
        }
      ],
      "source": [
        "cosineDot(docvectors[0],docvectors[1])"
      ]
    },
    {
      "cell_type": "code",
      "execution_count": null,
      "id": "903ca672",
      "metadata": {
        "id": "903ca672"
      },
      "outputs": [],
      "source": [
        "import io\n",
        "from IPython.nbformat import current\n",
        "\n",
        "with io.open(filepath, 'r', encoding='utf-8') as f:\n",
        "    nb = current.read(f, 'json')\n",
        "\n",
        "word_count = 0\n",
        "for cell in nb.worksheets[0].cells:\n",
        "    if cell.cell_type == \"markdown\":\n",
        "        word_count += len(cell['source'].replace('#', '').lstrip().split(' '))\n",
        "print(word_count)"
      ]
    },
    {
      "cell_type": "markdown",
      "id": "6363c790",
      "metadata": {
        "id": "6363c790"
      },
      "source": [
        "https://towardsdatascience.com/how-fast-numpy-really-is-e9111df44347#:~:text=Even%20for%20the%20delete%20operation,also%20frees%20the%20memory%20faster."
      ]
    }
  ],
  "metadata": {
    "kernelspec": {
      "display_name": "Python 3 (ipykernel)",
      "language": "python",
      "name": "python3"
    },
    "language_info": {
      "codemirror_mode": {
        "name": "ipython",
        "version": 3
      },
      "file_extension": ".py",
      "mimetype": "text/x-python",
      "name": "python",
      "nbconvert_exporter": "python",
      "pygments_lexer": "ipython3",
      "version": "3.9.7"
    },
    "colab": {
      "provenance": [],
      "include_colab_link": true
    }
  },
  "nbformat": 4,
  "nbformat_minor": 5
}